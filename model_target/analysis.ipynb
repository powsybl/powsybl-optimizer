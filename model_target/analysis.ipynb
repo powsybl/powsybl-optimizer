{
 "cells": [
  {
   "attachments": {},
   "cell_type": "markdown",
   "metadata": {},
   "source": [
    "# Divergence Analysis "
   ]
  },
  {
   "attachments": {},
   "cell_type": "markdown",
   "metadata": {},
   "source": [
    "The model that has been used for the divergence analysis\n",
    "\n",
    "![alt text](model8p.png \"Title\")"
   ]
  },
  {
   "attachments": {},
   "cell_type": "markdown",
   "metadata": {},
   "source": [
    "### Imports"
   ]
  },
  {
   "cell_type": "code",
   "execution_count": 1,
   "metadata": {},
   "outputs": [],
   "source": [
    "import pandas as pd\n",
    "import seaborn as sns\n",
    "import matplotlib.pyplot as plt\n",
    "\n",
    "from math import sqrt"
   ]
  },
  {
   "cell_type": "code",
   "execution_count": 2,
   "metadata": {},
   "outputs": [],
   "source": [
    "# Import data from network\n",
    "df_branches = pd.read_table('ampl_network_branches.txt', sep=\" \", header=1).drop(columns=[\"#\\\"variant\\\"\"])\n",
    "df_buses = pd.read_table('ampl_network_buses.txt', sep=\" \", header=1).drop(columns=[\"#\\\"variant\\\"\"])\n",
    "df_tct = pd.read_table('ampl_network_tct.txt', sep=\" \", header=1).drop(columns=[\"#\\\"variant\\\"\"])\n",
    "\n",
    "# Import values from divergence analysis optimization model\n",
    "df_var_Vtheta = pd.read_csv(\"analysis_Vtheta.csv\", sep=\";\")\n",
    "df_penal_s = pd.read_csv(\"analysis_s.csv\", sep=\";\")\n",
    "df_penal_sigma = pd.read_csv(\"analysis_sigma.csv\", sep=\";\")"
   ]
  },
  {
   "attachments": {},
   "cell_type": "markdown",
   "metadata": {},
   "source": [
    "### Calculation of sets and params for the rest of the analysis"
   ]
  },
  {
   "cell_type": "code",
   "execution_count": null,
   "metadata": {},
   "outputs": [],
   "source": [
    "# Get dephasage values\n",
    "df_branch_deph = df_branches[df_branches['phase tc'] != -1 and \n",
    "                            sqrt(df_branches['r (pu)']**2 + df_branches['x (pu)']**2) > 0.01]\n",
    "df_branch_regl = df_branches[df_branches['ratio tc'] != -1 and \n",
    "                            sqrt(df_branches['r (pu)']**2 + df_branches['x (pu)']**2) > 0.01]"
   ]
  },
  {
   "attachments": {},
   "cell_type": "markdown",
   "metadata": {},
   "source": [
    "### Get important penalization values"
   ]
  },
  {
   "attachments": {},
   "cell_type": "markdown",
   "metadata": {},
   "source": [
    "##### About V and theta values"
   ]
  },
  {
   "cell_type": "code",
   "execution_count": 28,
   "metadata": {},
   "outputs": [
    {
     "name": "stdout",
     "output_type": "stream",
     "text": [
      "0.226\n"
     ]
    },
    {
     "data": {
      "image/png": "[encoded data removed]",
      "text/plain": [
       "<Figure size 640x480 with 2 Axes>"
      ]
     },
     "metadata": {},
     "output_type": "display_data"
    }
   ],
   "source": [
    "fig, axes = plt.subplots(1,2)\n",
    "df_var_Vtheta.boxplot(column=['V'], ax=axes.flatten()[0])\n",
    "df_var_Vtheta.boxplot(column=['theta'], ax=axes.flatten()[1])"
   ]
  },
  {
   "attachments": {},
   "cell_type": "markdown",
   "metadata": {},
   "source": [
    "##### About s penalization"
   ]
  },
  {
   "cell_type": "code",
   "execution_count": 30,
   "metadata": {},
   "outputs": [
    {
     "data": {
      "text/plain": [
       "<Axes: >"
      ]
     },
     "execution_count": 30,
     "metadata": {},
     "output_type": "execute_result"
    },
    {
     "data": {
      "image/png": "[encoded data removed]",
      "text/plain": [
       "<Figure size 640x480 with 1 Axes>"
      ]
     },
     "metadata": {},
     "output_type": "display_data"
    }
   ],
   "source": [
    "df_penal_s.abs().boxplot(column=['s1'])"
   ]
  },
  {
   "attachments": {},
   "cell_type": "markdown",
   "metadata": {},
   "source": [
    "About sigma penalization"
   ]
  },
  {
   "cell_type": "code",
   "execution_count": null,
   "metadata": {},
   "outputs": [],
   "source": [
    "sigma_list = ['sigma1','sigma2','sigma3','sigma4','sigma5','sigma6','sigma7','sigma8']\n",
    "\n",
    "sigma_quantiles = df_penal_sigma.loc[:,sigma_list].abs().quantile([0.02,0.5,0.98])\n",
    "print(sigma_quantiles['sigma1'].values[-1])\n",
    "\n",
    "sigma_main_values = []\n",
    "for i in range(1,9):\n",
    "    sigma_main_values.append(df_penal_sigma[df_penal_sigma['sigma'+str(i)] > sigma_quantiles['sigma'+str(i)].values[2]]['sigma'+str(i)])"
   ]
  },
  {
   "attachments": {},
   "cell_type": "markdown",
   "metadata": {},
   "source": [
    "### Print info about important penalization"
   ]
  },
  {
   "cell_type": "code",
   "execution_count": 23,
   "metadata": {},
   "outputs": [
    {
     "name": "stdout",
     "output_type": "stream",
     "text": [
      "### About rho penalization ###\n",
      "Branch n°150 with id \"bdd85972-f62d-461f-a1c3-125dd6825c33\", important value of rho penalization : 0.38   (gap of 38.0%)\n",
      "Branch n°505 with id \"b447bea8-7d50-489c-8f68-4ae233c6d00a\", important value of rho penalization : 0.839   (gap of 80.2525228370558%)\n",
      "\n",
      "### About Y penalization ###\n",
      "Branch n°353 with id \"417fd321-a49f-4450-a74f-c8b0e275e0c1\", important value of Y penalization : 0.761   (gap of 0.01912803448276266%)\n",
      "Branch n°354 with id \"ceae9251-11b0-4a32-89a1-c7cf0846b20f\", important value of Y penalization : 0.765   (gap of 0.019228576056916472%)\n",
      "Branch n°355 with id \"4276aca2-be57-4e57-9693-88205f615307\", important value of Y penalization : 0.756   (gap of 0.019002357515070394%)\n",
      "Branch n°370 with id \"1d9353be-aa38-432c-a361-ed728fb3657f\", important value of Y penalization : 0.185   (gap of 0.018751011311861614%)\n",
      "Branch n°504 with id \"24be988f-373b-411f-ad55-6bf532e02770\", important value of Y penalization : 0.168   (gap of 7.0777893429515855%)\n",
      "Branch n°505 with id \"b447bea8-7d50-489c-8f68-4ae233c6d00a\", important value of Y penalization : 0.136   (gap of 0.8720872054306354%)\n",
      "Branch n°506 with id \"d60b7bae-6421-431c-a13b-f0720786c7e3\", important value of Y penalization : 0.219   (gap of 1.4043168969802142%)\n",
      "Branch n°545 with id \"8135fdc5-0220-4480-942f-a566310f2362\", important value of Y penalization : 0.195   (gap of 1.3924747111456377%)\n",
      "Branch n°623 with id \"f6b8bbbc-1ed5-4a9e-9279-b42f6d706af1\", important value of Y penalization : 0.522   (gap of 1.3820533838738736%)\n",
      "Branch n°691 with id \"daeb06b0-8bbf-4bda-b443-dabe0c71d15b\", important value of Y penalization : 0.573   (gap of 1.0926808599035762%)\n",
      "\n",
      "### About G_or penalization ###\n",
      "\n",
      "### About G_ex penalization ###\n",
      "\n",
      "### About B_or penalization ###\n",
      "\n",
      "### About G_or penalization ###\n",
      "\n"
     ]
    },
    {
     "name": "stderr",
     "output_type": "stream",
     "text": [
      "C:\\Users\\parvy\\AppData\\Local\\Temp\\ipykernel_4512\\76077341.py:2: FutureWarning: iteritems is deprecated and will be removed in a future version. Use .items instead.\n",
      "  for index, element in sigma_main_values[0].iteritems():\n",
      "C:\\Users\\parvy\\AppData\\Local\\Temp\\ipykernel_4512\\76077341.py:10: FutureWarning: iteritems is deprecated and will be removed in a future version. Use .items instead.\n",
      "  for index, element in sigma_main_values[1].iteritems():\n",
      "C:\\Users\\parvy\\AppData\\Local\\Temp\\ipykernel_4512\\76077341.py:30: FutureWarning: iteritems is deprecated and will be removed in a future version. Use .items instead.\n",
      "  for index, element in sigma_main_values[4].iteritems():\n",
      "C:\\Users\\parvy\\AppData\\Local\\Temp\\ipykernel_4512\\76077341.py:37: FutureWarning: iteritems is deprecated and will be removed in a future version. Use .items instead.\n",
      "  for index, element in sigma_main_values[5].iteritems():\n",
      "C:\\Users\\parvy\\AppData\\Local\\Temp\\ipykernel_4512\\76077341.py:44: FutureWarning: iteritems is deprecated and will be removed in a future version. Use .items instead.\n",
      "  for index, element in sigma_main_values[6].iteritems():\n",
      "C:\\Users\\parvy\\AppData\\Local\\Temp\\ipykernel_4512\\76077341.py:51: FutureWarning: iteritems is deprecated and will be removed in a future version. Use .items instead.\n",
      "  for index, element in sigma_main_values[7].iteritems():\n"
     ]
    }
   ],
   "source": [
    "print(\"### About rho penalization ###\")\n",
    "for index, element in sigma_main_values[0].iteritems():\n",
    "    gap = 100 * element / df_branches['cst ratio (pu)'].get(index)\n",
    "    print(\"Branch n°\" + str(index) + \" with id \\\"\" + str(df_branches['id'].get(index)) \n",
    "        + \"\\\", important value of rho penalization : \" + str(element) + \"   (gap of \" + str(gap) + \"%)\")\n",
    "print()\n",
    "\n",
    "\n",
    "print(\"### About Y penalization ###\")\n",
    "for index, element in sigma_main_values[1].iteritems():\n",
    "    admittance = 1 / sqrt( df_branches['r (pu)'].get(index)**2 + df_branches['x (pu)'].get(index)**2 )\n",
    "    gap = 100 * element / admittance\n",
    "    print(\"Branch n°\" + str(index) + \" with id \\\"\" + str(df_branches['id'].get(index)) \n",
    "        + \"\\\", important value of Y penalization : \" + str(element) + \"   (gap of \" + str(gap) + \"%)\")\n",
    "print()\n",
    "\n",
    "# TODO\n",
    "#print(\"### About dephor penalization ###\")\n",
    "#for index, element in sigma3_incoherences.iteritems():\n",
    "#\n",
    "#print()\n",
    "\n",
    "# TODO\n",
    "#print(\"### About Xi penalization ###\")\n",
    "#for index, element in sigma1_incoherences.iteritems():\n",
    "#    print(\"Branch n°\" + str(index) + \" with id \\\"\" + str(df_branches['id'].get(index)) \n",
    "#        + \"\\\", important value of rho penalization : \" + str(element) + \"   (gap of \" + str(element / df_branches['cst ratio (pu)'].get(index)) + \"%)\")\n",
    "\n",
    "print(\"### About G_or penalization ###\")\n",
    "for index, element in sigma_main_values[4].iteritems():\n",
    "    gap = 100 * element / df_branches['g1 (pu)'].get(index)\n",
    "    print(\"Branch n°\" + str(index) + \" with id \\\"\" + str(df_branches['id'].get(index)) \n",
    "        + \"\\\", important value of G_or penalization : \" + str(element) + \"   (gap of \" + str(gap) + \"%)\")\n",
    "print()\n",
    "\n",
    "print(\"### About G_ex penalization ###\")\n",
    "for index, element in sigma_main_values[5].iteritems():\n",
    "    gap = 100 * element / df_branches['g2 (pu)'].get(index)\n",
    "    print(\"Branch n°\" + str(index) + \" with id \\\"\" + str(df_branches['id'].get(index)) \n",
    "        + \"\\\", important value of G_ex penalization : \" + str(element) + \"   (gap of \" + str(gap) + \"%)\")\n",
    "print()\n",
    "\n",
    "print(\"### About B_or penalization ###\")\n",
    "for index, element in sigma_main_values[6].iteritems():\n",
    "    gap = 100 * element / df_branches['b1 (pu)'].get(index)\n",
    "    print(\"Branch n°\" + str(index) + \" with id \\\"\" + str(df_branches['id'].get(index)) \n",
    "        + \"\\\", important value of B_or penalization : \" + str(element) + \"   (gap of \" + str(gap) + \"%)\")\n",
    "print()\n",
    "\n",
    "print(\"### About G_or penalization ###\")\n",
    "for index, element in sigma_main_values[7].iteritems():\n",
    "    gap = 100 * element / df_branches['b2 (pu)'].get(index)\n",
    "    print(\"Branch n°\" + str(index) + \" with id \\\"\" + str(df_branches['id'].get(index)) \n",
    "        + \"\\\", important value of B_ex penalization : \" + str(element) + \"   (gap of \" + str(gap) + \"%)\")\n",
    "print()"
   ]
  }
 ],
 "metadata": {
  "kernelspec": {
   "display_name": "Python 3",
   "language": "python",
   "name": "python3"
  },
  "language_info": {
   "codemirror_mode": {
    "name": "ipython",
    "version": 3
   },
   "file_extension": ".py",
   "mimetype": "text/x-python",
   "name": "python",
   "nbconvert_exporter": "python",
   "pygments_lexer": "ipython3",
   "version": "3.11.2"
  },
  "orig_nbformat": 4
 },
 "nbformat": 4,
 "nbformat_minor": 2
}
